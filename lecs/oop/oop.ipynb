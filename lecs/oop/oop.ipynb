{
 "cells": [
  {
   "cell_type": "markdown",
   "metadata": {},
   "source": [
    "## Using classes to store data "
   ]
  },
  {
   "cell_type": "code",
   "execution_count": 1,
   "metadata": {},
   "outputs": [
    {
     "name": "stdout",
     "output_type": "stream",
     "text": [
      "Aryan from Gryffindor\n"
     ]
    }
   ],
   "source": [
    "class Student:\n",
    "    def __init__(self,name,house):\n",
    "        if not name:\n",
    "            raise ValueError(\"Missing Name\")\n",
    "        if house not in [\"Gryffindor\",\"Hufflepuff\",\"Ravenclaw\",\"Slytherin\"]:\n",
    "            raise ValueError(\"Invalid House\")\n",
    "        self.name = name\n",
    "        self.house = house\n",
    "\n",
    "    def __str__(self):\n",
    "        return f\"{self.name} from {self.house}\"\n",
    "\n",
    "def main():\n",
    "    student = get_student()\n",
    "    student.house = \"Number 4 , Privet Drive\"\n",
    "    print(student)\n",
    "\n",
    "def get_student():\n",
    "    name = input(\"Name: \")\n",
    "    house = input(\"House: \")\n",
    "    return Student(name,house)\n",
    "main()"
   ]
  },
  {
   "cell_type": "markdown",
   "metadata": {},
   "source": [
    "Anytime we use a class we create objects. Here the class `Student` is acting as a new datatype and on line 9 where we write `student = Student()` we're creating an object of the classs student and anytime we use the `.` inside the `get_student()` function we're creating variables name and house inside of the student class.\n",
    "\n",
    "We can also refer to objects as instances of classes."
   ]
  },
  {
   "cell_type": "markdown",
   "metadata": {},
   "source": [
    "Here we're defining `__str__` inside the class so that if we directly print an object of that class , the contents of the str function will get printed , instead of printing the memory address where the class is present."
   ]
  },
  {
   "cell_type": "markdown",
   "metadata": {},
   "source": [
    "# Pickup from 2 h 33 min"
   ]
  },
  {
   "cell_type": "markdown",
   "metadata": {},
   "source": []
  }
 ],
 "metadata": {
  "interpreter": {
   "hash": "287ee184d78959fade4213e06aa8453c71d17316fcbc60aa682b94ecd5afe758"
  },
  "kernelspec": {
   "display_name": "Python 3.10.4 64-bit",
   "language": "python",
   "name": "python3"
  },
  "language_info": {
   "codemirror_mode": {
    "name": "ipython",
    "version": 3
   },
   "file_extension": ".py",
   "mimetype": "text/x-python",
   "name": "python",
   "nbconvert_exporter": "python",
   "pygments_lexer": "ipython3",
   "version": "3.10.4"
  },
  "orig_nbformat": 4
 },
 "nbformat": 4,
 "nbformat_minor": 2
}
